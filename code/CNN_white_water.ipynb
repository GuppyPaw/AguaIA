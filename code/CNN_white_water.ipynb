{
 "cells": [
  {
   "cell_type": "code",
   "execution_count": 1,
   "metadata": {},
   "outputs": [],
   "source": [
    "import pandas as pd\n",
    "import numpy as np\n",
    "import matplotlib.pyplot as plt\n",
    "\n",
    "from sklearn.metrics import mean_squared_error, mean_absolute_percentage_error\n",
    "\n",
    "from tensorflow import keras\n",
    "from PIL import Image"
   ]
  },
  {
   "cell_type": "code",
   "execution_count": 2,
   "metadata": {},
   "outputs": [
    {
     "data": {
      "text/html": [
       "<div>\n",
       "<style scoped>\n",
       "    .dataframe tbody tr th:only-of-type {\n",
       "        vertical-align: middle;\n",
       "    }\n",
       "\n",
       "    .dataframe tbody tr th {\n",
       "        vertical-align: top;\n",
       "    }\n",
       "\n",
       "    .dataframe thead th {\n",
       "        text-align: right;\n",
       "    }\n",
       "</style>\n",
       "<table border=\"1\" class=\"dataframe\">\n",
       "  <thead>\n",
       "    <tr style=\"text-align: right;\">\n",
       "      <th></th>\n",
       "      <th>SensorTime</th>\n",
       "      <th>CaptureTime</th>\n",
       "      <th>Filename</th>\n",
       "      <th>Agency</th>\n",
       "      <th>SiteNumber</th>\n",
       "      <th>TimeZone</th>\n",
       "      <th>Stage</th>\n",
       "      <th>Discharge</th>\n",
       "      <th>CalcTimestamp</th>\n",
       "      <th>width</th>\n",
       "      <th>...</th>\n",
       "      <th>WeirPt2X</th>\n",
       "      <th>WeirPt2Y</th>\n",
       "      <th>WwRawLineMin</th>\n",
       "      <th>WwRawLineMax</th>\n",
       "      <th>WwRawLineMean</th>\n",
       "      <th>WwRawLineSigma</th>\n",
       "      <th>WwCurveLineMin</th>\n",
       "      <th>WwCurveLineMax</th>\n",
       "      <th>WwCurveLineMean</th>\n",
       "      <th>WwCurveLineSigma</th>\n",
       "    </tr>\n",
       "  </thead>\n",
       "  <tbody>\n",
       "    <tr>\n",
       "      <th>0</th>\n",
       "      <td>2012-06-09 13:15:00</td>\n",
       "      <td>2012-06-09T13:09:07</td>\n",
       "      <td>StateLineWeir_20120609_Farrell_001.jpg</td>\n",
       "      <td>USGS</td>\n",
       "      <td>6674500</td>\n",
       "      <td>MDT</td>\n",
       "      <td>2.99</td>\n",
       "      <td>916.0</td>\n",
       "      <td>2020-03-11T16:58:28</td>\n",
       "      <td>4288</td>\n",
       "      <td>...</td>\n",
       "      <td>-1</td>\n",
       "      <td>-1</td>\n",
       "      <td>0.0</td>\n",
       "      <td>0.0</td>\n",
       "      <td>0.0</td>\n",
       "      <td>0.0</td>\n",
       "      <td>0.0</td>\n",
       "      <td>0.0</td>\n",
       "      <td>0.0</td>\n",
       "      <td>0.0</td>\n",
       "    </tr>\n",
       "    <tr>\n",
       "      <th>1</th>\n",
       "      <td>2012-06-09 13:15:00</td>\n",
       "      <td>2012-06-09T13:10:29</td>\n",
       "      <td>StateLineWeir_20120609_Farrell_002.jpg</td>\n",
       "      <td>USGS</td>\n",
       "      <td>6674500</td>\n",
       "      <td>MDT</td>\n",
       "      <td>2.99</td>\n",
       "      <td>916.0</td>\n",
       "      <td>2020-03-11T16:58:33</td>\n",
       "      <td>4288</td>\n",
       "      <td>...</td>\n",
       "      <td>-1</td>\n",
       "      <td>-1</td>\n",
       "      <td>0.0</td>\n",
       "      <td>0.0</td>\n",
       "      <td>0.0</td>\n",
       "      <td>0.0</td>\n",
       "      <td>0.0</td>\n",
       "      <td>0.0</td>\n",
       "      <td>0.0</td>\n",
       "      <td>0.0</td>\n",
       "    </tr>\n",
       "    <tr>\n",
       "      <th>2</th>\n",
       "      <td>2012-06-09 13:45:00</td>\n",
       "      <td>2012-06-09T13:44:01</td>\n",
       "      <td>StateLineWeir_20120609_Farrell_003.jpg</td>\n",
       "      <td>USGS</td>\n",
       "      <td>6674500</td>\n",
       "      <td>MDT</td>\n",
       "      <td>2.96</td>\n",
       "      <td>873.0</td>\n",
       "      <td>2020-03-11T16:58:40</td>\n",
       "      <td>4288</td>\n",
       "      <td>...</td>\n",
       "      <td>-1</td>\n",
       "      <td>-1</td>\n",
       "      <td>0.0</td>\n",
       "      <td>0.0</td>\n",
       "      <td>0.0</td>\n",
       "      <td>0.0</td>\n",
       "      <td>0.0</td>\n",
       "      <td>0.0</td>\n",
       "      <td>0.0</td>\n",
       "      <td>0.0</td>\n",
       "    </tr>\n",
       "    <tr>\n",
       "      <th>3</th>\n",
       "      <td>2012-06-09 14:45:00</td>\n",
       "      <td>2012-06-09T14:44:30</td>\n",
       "      <td>StateLineWeir_20120609_Farrell_004.jpg</td>\n",
       "      <td>USGS</td>\n",
       "      <td>6674500</td>\n",
       "      <td>MDT</td>\n",
       "      <td>2.94</td>\n",
       "      <td>846.0</td>\n",
       "      <td>2020-03-11T16:58:47</td>\n",
       "      <td>4288</td>\n",
       "      <td>...</td>\n",
       "      <td>-1</td>\n",
       "      <td>-1</td>\n",
       "      <td>0.0</td>\n",
       "      <td>0.0</td>\n",
       "      <td>0.0</td>\n",
       "      <td>0.0</td>\n",
       "      <td>0.0</td>\n",
       "      <td>0.0</td>\n",
       "      <td>0.0</td>\n",
       "      <td>0.0</td>\n",
       "    </tr>\n",
       "    <tr>\n",
       "      <th>4</th>\n",
       "      <td>2012-06-09 15:45:00</td>\n",
       "      <td>2012-06-09T15:44:59</td>\n",
       "      <td>StateLineWeir_20120609_Farrell_005.jpg</td>\n",
       "      <td>USGS</td>\n",
       "      <td>6674500</td>\n",
       "      <td>MDT</td>\n",
       "      <td>2.94</td>\n",
       "      <td>846.0</td>\n",
       "      <td>2020-03-11T16:58:55</td>\n",
       "      <td>4288</td>\n",
       "      <td>...</td>\n",
       "      <td>-1</td>\n",
       "      <td>-1</td>\n",
       "      <td>0.0</td>\n",
       "      <td>0.0</td>\n",
       "      <td>0.0</td>\n",
       "      <td>0.0</td>\n",
       "      <td>0.0</td>\n",
       "      <td>0.0</td>\n",
       "      <td>0.0</td>\n",
       "      <td>0.0</td>\n",
       "    </tr>\n",
       "  </tbody>\n",
       "</table>\n",
       "<p>5 rows × 59 columns</p>\n",
       "</div>"
      ],
      "text/plain": [
       "           SensorTime          CaptureTime  \\\n",
       "0 2012-06-09 13:15:00  2012-06-09T13:09:07   \n",
       "1 2012-06-09 13:15:00  2012-06-09T13:10:29   \n",
       "2 2012-06-09 13:45:00  2012-06-09T13:44:01   \n",
       "3 2012-06-09 14:45:00  2012-06-09T14:44:30   \n",
       "4 2012-06-09 15:45:00  2012-06-09T15:44:59   \n",
       "\n",
       "                                 Filename  Agency   SiteNumber  TimeZone  \\\n",
       "0  StateLineWeir_20120609_Farrell_001.jpg    USGS      6674500       MDT   \n",
       "1  StateLineWeir_20120609_Farrell_002.jpg    USGS      6674500       MDT   \n",
       "2  StateLineWeir_20120609_Farrell_003.jpg    USGS      6674500       MDT   \n",
       "3  StateLineWeir_20120609_Farrell_004.jpg    USGS      6674500       MDT   \n",
       "4  StateLineWeir_20120609_Farrell_005.jpg    USGS      6674500       MDT   \n",
       "\n",
       "    Stage   Discharge        CalcTimestamp   width  ...   WeirPt2X   WeirPt2Y  \\\n",
       "0    2.99       916.0  2020-03-11T16:58:28    4288  ...         -1         -1   \n",
       "1    2.99       916.0  2020-03-11T16:58:33    4288  ...         -1         -1   \n",
       "2    2.96       873.0  2020-03-11T16:58:40    4288  ...         -1         -1   \n",
       "3    2.94       846.0  2020-03-11T16:58:47    4288  ...         -1         -1   \n",
       "4    2.94       846.0  2020-03-11T16:58:55    4288  ...         -1         -1   \n",
       "\n",
       "    WwRawLineMin   WwRawLineMax   WwRawLineMean   WwRawLineSigma  \\\n",
       "0            0.0            0.0             0.0              0.0   \n",
       "1            0.0            0.0             0.0              0.0   \n",
       "2            0.0            0.0             0.0              0.0   \n",
       "3            0.0            0.0             0.0              0.0   \n",
       "4            0.0            0.0             0.0              0.0   \n",
       "\n",
       "    WwCurveLineMin   WwCurveLineMax   WwCurveLineMean   WwCurveLineSigma  \n",
       "0              0.0              0.0               0.0                0.0  \n",
       "1              0.0              0.0               0.0                0.0  \n",
       "2              0.0              0.0               0.0                0.0  \n",
       "3              0.0              0.0               0.0                0.0  \n",
       "4              0.0              0.0               0.0                0.0  \n",
       "\n",
       "[5 rows x 59 columns]"
      ]
     },
     "execution_count": 2,
     "metadata": {},
     "output_type": "execute_result"
    }
   ],
   "source": [
    "data = pd.read_csv(\"river_data.csv\")\n",
    "\n",
    "data['SensorTime']= pd.to_datetime(data['SensorTime'])\n",
    "data.head()"
   ]
  },
  {
   "cell_type": "code",
   "execution_count": 3,
   "metadata": {},
   "outputs": [],
   "source": [
    "train = pd.read_csv(\"./data/train_data.csv\")\n",
    "test = pd.read_csv(\"./data/test_data.csv\")\n",
    "validation = pd.read_csv(\"./data/validation_data.csv\")"
   ]
  },
  {
   "cell_type": "code",
   "execution_count": 4,
   "metadata": {},
   "outputs": [
    {
     "name": "stdout",
     "output_type": "stream",
     "text": [
      "Found 25235 validated image filenames.\n",
      "Found 12618 validated image filenames.\n",
      "Found 4206 validated image filenames.\n"
     ]
    }
   ],
   "source": [
    "labels_train = train[[\" Filename\", \" Stage\"]]\n",
    "labels_test = test[[\" Filename\", \" Stage\"]]\n",
    "labels_validation = validation[[\" Filename\", \" Stage\"]]\n",
    "generator = keras.preprocessing.image.ImageDataGenerator(\n",
    "    rescale=1./255,\n",
    ")\n",
    "\n",
    "train_generator=generator.flow_from_dataframe(\n",
    "    dataframe=labels_train,\n",
    "    directory=\"./data/images/train\",\n",
    "    x_col=\" Filename\",\n",
    "    y_col=\" Stage\",\n",
    "    batch_size=32,\n",
    "    seed=42,\n",
    "    shuffle=True,\n",
    "    class_mode=\"raw\",\n",
    "    target_size=(512,512))\n",
    "\n",
    "test_generator = generator.flow_from_dataframe(\n",
    "    dataframe=labels_test,\n",
    "    directory=\"./data/images/test\",\n",
    "    x_col=\" Filename\",\n",
    "    y_col=\" Stage\",\n",
    "    batch_size=32,\n",
    "    seed=42,\n",
    "    shuffle=True,\n",
    "    class_mode=\"raw\",\n",
    "    target_size=(512,512))\n",
    "\n",
    "validation_generator = generator.flow_from_dataframe(\n",
    "    dataframe=labels_validation,\n",
    "    directory=\"./data/images/validation\",\n",
    "    x_col=\" Filename\",\n",
    "    y_col=\" Stage\",\n",
    "    batch_size=32,\n",
    "    seed=42,\n",
    "    shuffle=True,\n",
    "    class_mode=\"raw\",\n",
    "    target_size=(512,512))\n"
   ]
  },
  {
   "cell_type": "code",
   "execution_count": 5,
   "metadata": {},
   "outputs": [],
   "source": [
    "im = Image.open(\"./images/train/StateLineWeir_20120609_Farrell_001.jpg\")\n",
    "im2 = im.crop((80,100,400,450))\n",
    "im2.show()"
   ]
  },
  {
   "cell_type": "code",
   "execution_count": 6,
   "metadata": {},
   "outputs": [
    {
     "name": "stdout",
     "output_type": "stream",
     "text": [
      "Metal device set to: Apple M1 Pro\n",
      "\n",
      "systemMemory: 16.00 GB\n",
      "maxCacheSize: 5.33 GB\n",
      "\n"
     ]
    },
    {
     "name": "stderr",
     "output_type": "stream",
     "text": [
      "2022-11-17 15:42:19.980651: I tensorflow/core/common_runtime/pluggable_device/pluggable_device_factory.cc:306] Could not identify NUMA node of platform GPU ID 0, defaulting to 0. Your kernel may not have been built with NUMA support.\n",
      "2022-11-17 15:42:19.981097: I tensorflow/core/common_runtime/pluggable_device/pluggable_device_factory.cc:272] Created TensorFlow device (/job:localhost/replica:0/task:0/device:GPU:0 with 0 MB memory) -> physical PluggableDevice (device: 0, name: METAL, pci bus id: <undefined>)\n"
     ]
    }
   ],
   "source": [
    "inputs = keras.Input(shape=(512, 512, 3))\n",
    "x = keras.layers.Cropping2D(cropping=((80,112),(100,62)))(inputs)\n",
    "x = keras.layers.Conv2D(filters=16, kernel_size=(3, 3), activation='relu')(x)\n",
    "x = keras.layers.MaxPool2D()(x)\n",
    "x = keras.layers.Conv2D(filters=32, kernel_size=(3, 3), activation='relu')(x)\n",
    "x = keras.layers.MaxPool2D()(x)\n",
    "x = keras.layers.GlobalAveragePooling2D()(x)\n",
    "x = keras.layers.Dense(128, activation='relu')(x)\n",
    "x = keras.layers.Dense(128, activation='relu')(x)\n",
    "x = keras.layers.Dense(64, activation='relu')(x)\n",
    "outputs = keras.layers.Dense(1, activation='linear')(x)"
   ]
  },
  {
   "cell_type": "code",
   "execution_count": 7,
   "metadata": {},
   "outputs": [
    {
     "name": "stdout",
     "output_type": "stream",
     "text": [
      "Epoch 1/10\n"
     ]
    },
    {
     "name": "stderr",
     "output_type": "stream",
     "text": [
      "2022-11-17 15:42:22.302121: W tensorflow/core/platform/profile_utils/cpu_utils.cc:128] Failed to get CPU frequency: 0 Hz\n",
      "2022-11-17 15:42:22.605319: I tensorflow/core/grappler/optimizers/custom_graph_optimizer_registry.cc:114] Plugin optimizer for device_type GPU is enabled.\n"
     ]
    },
    {
     "name": "stdout",
     "output_type": "stream",
     "text": [
      "789/789 [==============================] - ETA: 0s - loss: 0.6906 - mse: 0.6906 - mae: 0.5777"
     ]
    },
    {
     "name": "stderr",
     "output_type": "stream",
     "text": [
      "2022-11-17 15:43:40.798534: I tensorflow/core/grappler/optimizers/custom_graph_optimizer_registry.cc:114] Plugin optimizer for device_type GPU is enabled.\n"
     ]
    },
    {
     "name": "stdout",
     "output_type": "stream",
     "text": [
      "789/789 [==============================] - 91s 113ms/step - loss: 0.6906 - mse: 0.6906 - mae: 0.5777 - val_loss: 0.4206 - val_mse: 0.4206 - val_mae: 0.4655\n",
      "Epoch 2/10\n",
      "789/789 [==============================] - 89s 112ms/step - loss: 0.3825 - mse: 0.3825 - mae: 0.3905 - val_loss: 0.3504 - val_mse: 0.3504 - val_mae: 0.4120\n",
      "Epoch 3/10\n",
      "789/789 [==============================] - 86s 109ms/step - loss: 0.3336 - mse: 0.3336 - mae: 0.3620 - val_loss: 0.3074 - val_mse: 0.3074 - val_mae: 0.3372\n",
      "Epoch 4/10\n",
      "789/789 [==============================] - 86s 109ms/step - loss: 0.3110 - mse: 0.3110 - mae: 0.3478 - val_loss: 0.2985 - val_mse: 0.2985 - val_mae: 0.3594\n",
      "Epoch 5/10\n",
      "789/789 [==============================] - 85s 108ms/step - loss: 0.3024 - mse: 0.3024 - mae: 0.3459 - val_loss: 0.2921 - val_mse: 0.2921 - val_mae: 0.3149\n",
      "Epoch 6/10\n",
      "789/789 [==============================] - 86s 109ms/step - loss: 0.2870 - mse: 0.2870 - mae: 0.3337 - val_loss: 0.2872 - val_mse: 0.2872 - val_mae: 0.3591\n",
      "Epoch 7/10\n",
      "789/789 [==============================] - 90s 114ms/step - loss: 0.2630 - mse: 0.2630 - mae: 0.3185 - val_loss: 0.3045 - val_mse: 0.3045 - val_mae: 0.3896\n",
      "Epoch 8/10\n",
      "789/789 [==============================] - 92s 116ms/step - loss: 0.2445 - mse: 0.2445 - mae: 0.3105 - val_loss: 0.2311 - val_mse: 0.2311 - val_mae: 0.3119\n",
      "Epoch 9/10\n",
      "789/789 [==============================] - 92s 116ms/step - loss: 0.1938 - mse: 0.1938 - mae: 0.2800 - val_loss: 0.1823 - val_mse: 0.1823 - val_mae: 0.2734\n",
      "Epoch 10/10\n",
      "789/789 [==============================] - 92s 116ms/step - loss: 0.1501 - mse: 0.1501 - mae: 0.2512 - val_loss: 0.1774 - val_mse: 0.1774 - val_mae: 0.2560\n"
     ]
    }
   ],
   "source": [
    "model = keras.Model(inputs=inputs, outputs=outputs)\n",
    "model.compile(\n",
    "    loss='mse', \n",
    "    optimizer='adam', \n",
    "    metrics=['mse', 'mae']\n",
    ")\n",
    "history = model.fit(\n",
    "    train_generator,\n",
    "    validation_data=validation_generator,\n",
    "    epochs=10,\n",
    "    batch_size=32,\n",
    "    callbacks=[\n",
    "        keras.callbacks.EarlyStopping(\n",
    "            monitor='val_loss',\n",
    "            patience=5,\n",
    "            restore_best_weights=True\n",
    "        )\n",
    "    ]\n",
    ")"
   ]
  },
  {
   "cell_type": "code",
   "execution_count": 8,
   "metadata": {},
   "outputs": [
    {
     "name": "stdout",
     "output_type": "stream",
     "text": [
      "Test RMSE:  [0.3988882  0.3988882  0.50323954]\n"
     ]
    }
   ],
   "source": [
    "rmse = np.sqrt(model.evaluate(test_generator, verbose=0))\n",
    "print(\"Test RMSE: \",rmse)"
   ]
  }
 ],
 "metadata": {
  "kernelspec": {
   "display_name": "Python 3.10.6 ('AI')",
   "language": "python",
   "name": "python3"
  },
  "language_info": {
   "codemirror_mode": {
    "name": "ipython",
    "version": 3
   },
   "file_extension": ".py",
   "mimetype": "text/x-python",
   "name": "python",
   "nbconvert_exporter": "python",
   "pygments_lexer": "ipython3",
   "version": "3.10.6"
  },
  "orig_nbformat": 4,
  "vscode": {
   "interpreter": {
    "hash": "71f8a22563664e7fd593e913f560669104737b8ff064ffb20c7dfa1c5db14acf"
   }
  }
 },
 "nbformat": 4,
 "nbformat_minor": 2
}
