{
 "cells": [
  {
   "cell_type": "code",
   "execution_count": 12,
   "metadata": {},
   "outputs": [],
   "source": [
    "from keras_segmentation.pretrained import pspnet_50_ADE_20K , pspnet_101_cityscapes, pspnet_101_voc12"
   ]
  },
  {
   "cell_type": "code",
   "execution_count": 15,
   "metadata": {},
   "outputs": [
    {
     "name": "stdout",
     "output_type": "stream",
     "text": [
      "Verifying training dataset\n"
     ]
    },
    {
     "name": "stderr",
     "output_type": "stream",
     "text": [
      "100%|██████████| 606/606 [00:11<00:00, 53.74it/s]\n"
     ]
    },
    {
     "name": "stdout",
     "output_type": "stream",
     "text": [
      "Dataset verified! \n",
      "Epoch 1/15\n"
     ]
    },
    {
     "name": "stderr",
     "output_type": "stream",
     "text": [
      "2022-11-17 14:14:24.818436: I tensorflow/core/grappler/optimizers/custom_graph_optimizer_registry.cc:114] Plugin optimizer for device_type GPU is enabled.\n"
     ]
    },
    {
     "name": "stdout",
     "output_type": "stream",
     "text": [
      "512/512 [==============================] - ETA: 0s - loss: 4.6643 - accuracy: 0.0392saved  ./riwa/checkpoint/.0\n",
      "512/512 [==============================] - 119s 230ms/step - loss: 4.6643 - accuracy: 0.0392\n",
      "Epoch 2/15\n",
      "512/512 [==============================] - ETA: 0s - loss: 4.3526 - accuracy: 0.1443saved  ./riwa/checkpoint/.1\n",
      "512/512 [==============================] - 118s 230ms/step - loss: 4.3526 - accuracy: 0.1443\n",
      "Epoch 3/15\n",
      "512/512 [==============================] - ETA: 0s - loss: 4.0709 - accuracy: 0.3015saved  ./riwa/checkpoint/.2\n",
      "512/512 [==============================] - 117s 229ms/step - loss: 4.0709 - accuracy: 0.3015\n",
      "Epoch 4/15\n",
      "512/512 [==============================] - ETA: 0s - loss: 3.8814 - accuracy: 0.3942saved  ./riwa/checkpoint/.3\n",
      "512/512 [==============================] - 118s 230ms/step - loss: 3.8814 - accuracy: 0.3942\n",
      "Epoch 5/15\n",
      "512/512 [==============================] - ETA: 0s - loss: 3.7194 - accuracy: 0.4538saved  ./riwa/checkpoint/.4\n",
      "512/512 [==============================] - 118s 230ms/step - loss: 3.7194 - accuracy: 0.4538\n",
      "Epoch 6/15\n",
      "512/512 [==============================] - ETA: 0s - loss: 3.5837 - accuracy: 0.4985saved  ./riwa/checkpoint/.5\n",
      "512/512 [==============================] - 118s 230ms/step - loss: 3.5837 - accuracy: 0.4985\n",
      "Epoch 7/15\n",
      "512/512 [==============================] - ETA: 0s - loss: 3.5565 - accuracy: 0.5189saved  ./riwa/checkpoint/.6\n",
      "512/512 [==============================] - 118s 231ms/step - loss: 3.5565 - accuracy: 0.5189\n",
      "Epoch 8/15\n",
      "512/512 [==============================] - ETA: 0s - loss: 3.5022 - accuracy: 0.5387saved  ./riwa/checkpoint/.7\n",
      "512/512 [==============================] - 119s 232ms/step - loss: 3.5022 - accuracy: 0.5387\n",
      "Epoch 9/15\n",
      "512/512 [==============================] - ETA: 0s - loss: 3.4266 - accuracy: 0.5599saved  ./riwa/checkpoint/.8\n",
      "512/512 [==============================] - 118s 231ms/step - loss: 3.4266 - accuracy: 0.5599\n",
      "Epoch 10/15\n",
      "512/512 [==============================] - ETA: 0s - loss: 3.4440 - accuracy: 0.5634saved  ./riwa/checkpoint/.9\n",
      "512/512 [==============================] - 119s 233ms/step - loss: 3.4440 - accuracy: 0.5634\n",
      "Epoch 11/15\n",
      "512/512 [==============================] - ETA: 0s - loss: 3.4142 - accuracy: 0.5750saved  ./riwa/checkpoint/.10\n",
      "512/512 [==============================] - 118s 230ms/step - loss: 3.4142 - accuracy: 0.5750\n",
      "Epoch 12/15\n",
      "512/512 [==============================] - ETA: 0s - loss: 3.3534 - accuracy: 0.5882saved  ./riwa/checkpoint/.11\n",
      "512/512 [==============================] - 120s 234ms/step - loss: 3.3534 - accuracy: 0.5882\n",
      "Epoch 13/15\n",
      "512/512 [==============================] - ETA: 0s - loss: 3.3536 - accuracy: 0.5889saved  ./riwa/checkpoint/.12\n",
      "512/512 [==============================] - 119s 233ms/step - loss: 3.3536 - accuracy: 0.5889\n",
      "Epoch 14/15\n",
      "512/512 [==============================] - ETA: 0s - loss: 3.3607 - accuracy: 0.5920saved  ./riwa/checkpoint/.13\n",
      "512/512 [==============================] - 118s 230ms/step - loss: 3.3607 - accuracy: 0.5920\n",
      "Epoch 15/15\n",
      "512/512 [==============================] - ETA: 0s - loss: 3.3046 - accuracy: 0.6030saved  ./riwa/checkpoint/.14\n",
      "512/512 [==============================] - 117s 228ms/step - loss: 3.3046 - accuracy: 0.6030\n"
     ]
    }
   ],
   "source": [
    "from keras_segmentation.models.unet import vgg_unet\n",
    "\n",
    "model = vgg_unet(n_classes=94 ,  input_height=384, input_width=288  )\n",
    "\n",
    "model.train(\n",
    "    train_images =  \"riwa/train/images/train_images\",\n",
    "    train_annotations = \"riwa/train/masks/train_masks\",\n",
    "    checkpoints_path = \"./riwa/checkpoint/\" , epochs=15\n",
    ")\n"
   ]
  },
  {
   "cell_type": "markdown",
   "metadata": {},
   "source": []
  },
  {
   "cell_type": "code",
   "execution_count": 19,
   "metadata": {},
   "outputs": [
    {
     "name": "stdout",
     "output_type": "stream",
     "text": [
      "1/1 [==============================] - 0s 178ms/step\n"
     ]
    }
   ],
   "source": [
    "out = model.predict_segmentation(\n",
    "    inp=\"./riwa/test/images/img_0050.jpg\",\n",
    "    out_fname=\"./out5.png\"\n",
    ")"
   ]
  }
 ],
 "metadata": {
  "kernelspec": {
   "display_name": "Python 3.10.6 64-bit",
   "language": "python",
   "name": "python3"
  },
  "language_info": {
   "codemirror_mode": {
    "name": "ipython",
    "version": 3
   },
   "file_extension": ".py",
   "mimetype": "text/x-python",
   "name": "python",
   "nbconvert_exporter": "python",
   "pygments_lexer": "ipython3",
   "version": "3.10.6"
  },
  "orig_nbformat": 4,
  "vscode": {
   "interpreter": {
    "hash": "b0fa6594d8f4cbf19f97940f81e996739fb7646882a419484c72d19e05852a7e"
   }
  }
 },
 "nbformat": 4,
 "nbformat_minor": 2
}
